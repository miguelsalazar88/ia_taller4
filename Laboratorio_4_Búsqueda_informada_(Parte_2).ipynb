{
  "cells": [
    {
      "cell_type": "code",
      "execution_count": 11,
      "metadata": {},
      "outputs": [],
      "source": [
        "# Bibliotecas:\n",
        "\n",
        "import matplotlib.pyplot as plt"
      ]
    },
    {
      "cell_type": "markdown",
      "metadata": {},
      "source": [
        "## Clases:"
      ]
    },
    {
      "cell_type": "markdown",
      "metadata": {},
      "source": [
        "### SearchProblem:"
      ]
    },
    {
      "cell_type": "code",
      "execution_count": 12,
      "metadata": {},
      "outputs": [],
      "source": [
        "class SearchProblem(object):\n",
        "    \"\"\"The abstract class for a formal problem. A new domain subclasses this,\n",
        "    overriding `actions` and `results`, and perhaps other methods.\n",
        "    The default heuristic is 0 and the default action cost is 1 for all states.\n",
        "    When you create an instance of a subclass, specify `initial`, and `goal` states \n",
        "    (or give an `is_goal` method) and perhaps other keyword args for the subclass.\"\"\"\n",
        "\n",
        "    def __init__(self, initial, goal=None, **kwds): \n",
        "        \"\"\"The constructor specifies the initial state, and possibly a goal\n",
        "        state, if there is a unique goal. Your subclass's constructor can add\n",
        "        other arguments.\"\"\"\n",
        "        self.initial = initial\n",
        "        self.goal = goal\n",
        "\n",
        "        \n",
        "    def actions(self, node):\n",
        "        \"\"\"Return the actions that can be executed in the given\n",
        "        state. The result would typically be a list, but if there are\n",
        "        many actions, consider yielding them one at a time in an\n",
        "        iterator, rather than building them all at once.\"\"\"        \n",
        "        raise NotImplementedError\n",
        "        \n",
        "    def result(self, node, action): \n",
        "        \"\"\"Return the state that results from executing the given\n",
        "        action in the given state. The action must be one of\n",
        "        self.actions(state).\"\"\"\n",
        "        raise NotImplementedError\n",
        "        \n",
        "    def is_goal(self, node): \n",
        "        \"\"\"Return True if the state is a goal. The default method compares the\n",
        "        state to self.goal or checks for state in self.goal if it is a\n",
        "        list, as specified in the constructor. Override this method if\n",
        "        checking against a single self.goal is not enough.\"\"\"      \n",
        "        return self.goal == node\n",
        "    \n",
        "    def action_cost(self, s, a, s1): \n",
        "        \"\"\"Return the cost of a solution path that arrives at state s1 from\n",
        "        state s via action a. If the problem\n",
        "        is such that the path doesn't matter, this function will only look at\n",
        "        state s1.  If the path does matter, it will consider state s1\n",
        "        and action a. The default method costs 1 for every step in the path.\"\"\"\n",
        "        return 1\n",
        "\n",
        "    def h(self, node):\n",
        "     raise NotImplementedError \n",
        "     \n",
        "    def g(self, node):\n",
        "     return node.path_cost()\n",
        "\n",
        "    def f(self, node):\n",
        "     return self.g(node) + self.h(node)       "
      ]
    },
    {
      "cell_type": "markdown",
      "metadata": {},
      "source": [
        "### Node:"
      ]
    },
    {
      "cell_type": "code",
      "execution_count": 13,
      "metadata": {},
      "outputs": [],
      "source": [
        "class Node:\n",
        "    def __init__(self, state='', parent=None, action=None, cost=1):\n",
        "        self.state = state\n",
        "        self.parent = parent\n",
        "        self.action = action\n",
        "        self.cost = cost\n",
        "\n",
        "    def states_path(self):\n",
        "        if self.parent == None:\n",
        "            return [self]\n",
        "        return self.parent.states_path() + [self]\n",
        "    \n",
        "    def actions_path(self):\n",
        "        if self.parent == None:\n",
        "            return []\n",
        "        return self.parent.actions_path() + [self.action]        \n",
        "\n",
        "    def __eq__(self, node):\n",
        "        if node:\n",
        "            return self.state == node.state\n",
        "        return False    \n",
        "\n",
        "    def path_cost(self):\n",
        "        total_cost = 0\n",
        "        if self.parent is None:\n",
        "            return total_cost\n",
        "        total_cost += self.cost + self.parent.path_cost()\n",
        "        return total_cost \n",
        "\n",
        "    def __repr__(self):\n",
        "        return str(self.state)  "
      ]
    },
    {
      "cell_type": "markdown",
      "metadata": {},
      "source": [
        "### PriorityQueue:"
      ]
    },
    {
      "cell_type": "code",
      "execution_count": 14,
      "metadata": {},
      "outputs": [],
      "source": [
        "import heapq\n",
        "class PriorityQueue:\n",
        "    \"\"\"\n",
        "      Implements a priority queue data structure. Each inserted item\n",
        "      has a priority associated with it and the client is usually interested\n",
        "      in quick retrieval of the lowest-priority item in the queue. This\n",
        "      data structure allows O(1) access to the lowest-priority item.\n",
        "    \"\"\"\n",
        "    def  __init__(self):\n",
        "        self.heap = []\n",
        "        self.count = 0\n",
        "\n",
        "    def push(self, item, priority):\n",
        "        entry = (priority, self.count, item)\n",
        "        heapq.heappush(self.heap, entry)\n",
        "        self.count += 1\n",
        "\n",
        "    def pop(self):\n",
        "        (_, _, item) = heapq.heappop(self.heap)\n",
        "        return item\n",
        "\n",
        "    def isEmpty(self):\n",
        "        return len(self.heap) == 0\n",
        "\n",
        "    def update(self, item, priority):\n",
        "        # If item already in priority queue with higher priority, update its priority and rebuild the heap.\n",
        "        # If item already in priority queue with equal or lower priority, do nothing.\n",
        "        # If item not in priority queue, do the same thing as self.push.\n",
        "        for index, (p, c, i) in enumerate(self.heap):\n",
        "            if i == item:\n",
        "                if p <= priority:\n",
        "                    break\n",
        "                del self.heap[index]\n",
        "                self.heap.append((priority, c, item))\n",
        "                heapq.heapify(self.heap)\n",
        "                break\n",
        "        else:\n",
        "            self.push(item, priority)        "
      ]
    },
    {
      "cell_type": "markdown",
      "metadata": {},
      "source": [
        "### Expand (Método):"
      ]
    },
    {
      "cell_type": "code",
      "execution_count": 15,
      "metadata": {},
      "outputs": [],
      "source": [
        "def expand(problem, node):\n",
        "    childs = []\n",
        "    for action in problem.actions(node):\n",
        "        childs.append(problem.result(node, action))\n",
        "    return childs    "
      ]
    },
    {
      "cell_type": "markdown",
      "metadata": {},
      "source": [
        "### UCS"
      ]
    },
    {
      "cell_type": "code",
      "execution_count": 16,
      "metadata": {},
      "outputs": [],
      "source": [
        "def UCS(problem, fringe=PriorityQueue()):\n",
        "    closed = []\n",
        "    fringe.push(problem.initial, 0)\n",
        "\n",
        "    while(True):\n",
        "        node = fringe.pop()\n",
        "        if problem.is_goal(node):\n",
        "            print('Expanded Nodes: {}'.format(len(closed))) \n",
        "            return node\n",
        "        if node not in closed: \n",
        "            closed.append(node)\n",
        "            for child in expand(problem, node):\n",
        "                fringe.push(child, problem.g(child))"
      ]
    },
    {
      "cell_type": "markdown",
      "metadata": {},
      "source": [
        "### Voraz:"
      ]
    },
    {
      "cell_type": "code",
      "execution_count": 17,
      "metadata": {},
      "outputs": [],
      "source": [
        "def voraz(problem, fringe):\n",
        "    closed = []\n",
        "    fringe.push(problem.initial, 0)\n",
        "\n",
        "    while(True):\n",
        "        node = fringe.pop()\n",
        "        if problem.is_goal(node): \n",
        "            print('Expanded Nodes: {}'.format(len(closed)))\n",
        "            return node\n",
        "        if node not in closed: \n",
        "            closed.append(node)\n",
        "            for child in expand(problem, node):\n",
        "                fringe.push(child, problem.h(child))"
      ]
    },
    {
      "cell_type": "markdown",
      "metadata": {},
      "source": [
        "### A*:"
      ]
    },
    {
      "cell_type": "code",
      "execution_count": 18,
      "metadata": {},
      "outputs": [],
      "source": [
        "def aStar(problem, fringe):\n",
        "    closed = []\n",
        "    fringe.push(problem.initial, 0)\n",
        "\n",
        "    while(True):\n",
        "        node = fringe.pop()\n",
        "        if problem.is_goal(node):\n",
        "            print('Expanded Nodes: {}'.format(len(closed)))\n",
        "            return node\n",
        "        if node not in closed: \n",
        "            closed.append(node)\n",
        "            for child in expand(problem, node):\n",
        "                fringe.push(child, problem.f(child))"
      ]
    },
    {
      "cell_type": "markdown",
      "metadata": {
        "id": "7OR2qAq0aNT5"
      },
      "source": [
        "# __Laboratorio 4: Búsqueda informada (Parte 2)__\n",
        "\n",
        "El siguiente taller de corresponde a la aplicación de algoritmos de búsqueda informada en la solución de problemas en inteligencia artificial. Para el desarrollo del laboratorio tenga en cuenta lo siguiente:\n",
        "\n",
        "* La actividad puede realizarse en grupos de máximo 4 personas\n",
        "* La solución al taller debe enviarse en un notebook a través de Moodle. Se debe adjuntar el archivo. No se aceptan enlaces\n",
        "* El objetivo del taller es hacer énfasis en el proceso de modelamiento. Por esta razón se deben utilizar como base para la soluciones propuestas las clases y métodos disponibles en la sección recursos. __Otras implementaciones no serán tenidas en cuenta__.\n",
        "* Si se detecta cualquier tipo de fraude, la calificación de 0.0.\n",
        "* El taller deberá ser sustentando por uno de los miembros del grupo\n",
        "* Las soluciones propuestas deben cumplir con las recomendaciones de código limpio especificadas en el [PEP8](https://pep8.org/), de lo contrario será penalizado"
      ]
    },
    {
      "cell_type": "markdown",
      "metadata": {
        "id": "_mGyJnflafti"
      },
      "source": [
        "## __1. (1.5 Puntos) Rompecabezas de 8-piezas__\n",
        "\n",
        "Solucione el rompecabezas de 8 piezas suponiendo que todos los movimientos cuestan 1 punto y utilizando la configuración `[1, 0, 2, 7, 4, 3, 8, 6, 5]` como estado inicial. \n",
        "<center>\n",
        "\n",
        "![imagen.png](data:image/png;base64,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)\n",
        "</center>\n",
        "Para este caso encuentre:\n",
        "\n",
        "* La solución utilizando UCS\n",
        "* La solución con los algoritmos Voraz y A* utilizando como heurística el número de piezas mal ubicadas\n",
        "* La solución con los algoritmos Voraz y A* utilizando la distancia de manhattan como heurística.\n",
        "* Compare la cantidad de nodos expandidos por ambas heurísticas en el algortimo A* contra la cantidad de nodos expandidos por UCS\n",
        "* Compare el costo de las soluciones obtenidas por ambas heurísticas en el algoritmo Voraz contra el costo obtenido por UCS\n",
        "* Proponga una nueva heurística admisible que expanda menos nodos que manhattan. \n",
        "* Seleccione la heurística que presentó el mejor desempeño y calcule la solución para el estado inicial `[1, 4, 2, 0, 7, 5, 3, 6, 8]` utilizando A*. Compare la cantidad de nodos exapndidos con UCS para este estado inicial\n",
        "* __NOTA:__ La ejecución de UCS para el estado inicial `[1, 4, 2, 0, 7, 5, 3, 6, 8]` puede tomar aproximadamente 60 minutos si se realiza en colab. Se sugiere ejecutarlo local (o tener paciencia)"
      ]
    },
    {
      "cell_type": "markdown",
      "metadata": {},
      "source": [
        "## Problema Puzzle con heurística de Piezas Mal Ubicadas"
      ]
    },
    {
      "cell_type": "markdown",
      "metadata": {},
      "source": [
        "### Clase Puzzle con Heurística de Piezas Mal Ubicadas"
      ]
    },
    {
      "cell_type": "code",
      "execution_count": 19,
      "metadata": {
        "id": "HZ-7zXaFZ1m7"
      },
      "outputs": [],
      "source": [
        "class PuzzleH1(SearchProblem):\n",
        "\n",
        "    def __init(self, initial, goal):\n",
        "        self.initial = initial\n",
        "        self.goal = goal\n",
        "\n",
        "\n",
        "    def actions(self, node):\n",
        "        actions = [(1,3),(0,2,4),(1,5),(0,4,6),(1,3,5,7),(2,4,8),(3,7),(4,6,8),(5,7)]\n",
        "        return actions[node.state.index(0)]\n",
        "    \n",
        "    def result(self, node, action):\n",
        "        new_state  = node.state.copy()\n",
        "        cero = node.state.index(0)\n",
        "        new_state[cero], new_state[action] = new_state[action], new_state[cero]\n",
        "        return Node(state=new_state, parent=node, action=action)\n",
        "    \n",
        "    def h(self, node):\n",
        "        sum = 0\n",
        "        for i in node.state:\n",
        "            if node.state[i] != self.goal.state[i]:\n",
        "                sum +=1\n",
        "        return sum\n",
        "    \n",
        "    def g(self, node):\n",
        "        return super().g(node)\n",
        "    \n",
        "    def f(self, node):\n",
        "        return super().f(node)    "
      ]
    },
    {
      "cell_type": "markdown",
      "metadata": {},
      "source": [
        "### Algoritmo UCS para Puzzle"
      ]
    },
    {
      "cell_type": "code",
      "execution_count": 20,
      "metadata": {},
      "outputs": [
        {
          "name": "stdout",
          "output_type": "stream",
          "text": [
            "Expanded Nodes: 398\n",
            "Action Sequence:  [2, 5, 8, 7, 6, 3, 4, 5, 8]\n",
            "Cost:  9\n"
          ]
        }
      ],
      "source": [
        "initial = Node([1,0,2,7,4,3,8,6,5])\n",
        "goal = Node([1,2,3,4,5,6,7,8,0])\n",
        "\n",
        "problem = PuzzleH1(initial, goal)\n",
        "fringe = PriorityQueue()\n",
        "solution = UCS(problem, fringe)\n",
        "print(\"Action Sequence: \", solution.actions_path())\n",
        "print(\"Cost: \", solution.path_cost())"
      ]
    },
    {
      "cell_type": "markdown",
      "metadata": {},
      "source": [
        "### Voraz Heurística Piezas Mal Ubicadas"
      ]
    },
    {
      "cell_type": "code",
      "execution_count": 21,
      "metadata": {},
      "outputs": [
        {
          "name": "stdout",
          "output_type": "stream",
          "text": [
            "Expanded Nodes: 10\n",
            "Action Sequence:  [2, 5, 8, 7, 6, 3, 4, 5, 8]\n",
            "Cost:  9\n"
          ]
        }
      ],
      "source": [
        "initial2 = Node([1,0,2,7,4,3,8,6,5])\n",
        "goal2 = Node([1,2,3,4,5,6,7,8,0])\n",
        "problem2 = PuzzleH1(initial2, goal2)\n",
        "fringe2 = PriorityQueue()\n",
        "solution2 = voraz(problem2, fringe2)\n",
        "print(\"Action Sequence: \", solution2.actions_path())\n",
        "print(\"Cost: \", solution2.path_cost())"
      ]
    },
    {
      "cell_type": "markdown",
      "metadata": {},
      "source": [
        "### A* Heurística Piezas Mal Ubicadas"
      ]
    },
    {
      "cell_type": "code",
      "execution_count": 22,
      "metadata": {},
      "outputs": [
        {
          "name": "stdout",
          "output_type": "stream",
          "text": [
            "Expanded Nodes: 24\n",
            "Action Sequence:  [2, 5, 8, 7, 6, 3, 4, 5, 8]\n",
            "Cost:  9\n"
          ]
        }
      ],
      "source": [
        "initial3 = Node([1,0,2,7,4,3,8,6,5])\n",
        "goal3 = Node([1,2,3,4,5,6,7,8,0])\n",
        "problem3 = PuzzleH1(initial3, goal3)\n",
        "fringe3 = PriorityQueue()\n",
        "solution3 = aStar(problem3, fringe3)\n",
        "print(\"Action Sequence: \", solution3.actions_path())\n",
        "print(\"Cost: \", solution3.path_cost())"
      ]
    },
    {
      "cell_type": "markdown",
      "metadata": {},
      "source": []
    },
    {
      "cell_type": "markdown",
      "metadata": {},
      "source": [
        "## Problema Puzzle con Heurística Distancia de Manhattan:"
      ]
    },
    {
      "cell_type": "markdown",
      "metadata": {},
      "source": [
        "### Clase Puzzle con Heurística Distancia de Manhattan"
      ]
    },
    {
      "cell_type": "code",
      "execution_count": 12,
      "metadata": {},
      "outputs": [],
      "source": [
        "def manhattan(xyGrid, xySolucion):\n",
        "    return abs(xySolucion[0]-xyGrid[0]) + abs(xySolucion[1] - xyGrid[1])\n",
        "\n",
        "class PuzzleH2(SearchProblem):\n",
        "    def __init__(self, initial, goal):\n",
        "        self.initial = initial\n",
        "        self.goal = goal\n",
        "    \n",
        "    def actions(self, node):\n",
        "        return super().actions(node)\n",
        "\n",
        "    def actions(self, node):\n",
        "        actions = [(1,3),(0,2,4),(1,5),(0,4,6),(1,3,5,7),(2,4,8),(3,7),(4,6,8),(5,7)]\n",
        "        return actions[node.state.index(0)]\n",
        "    \n",
        "    def result(self, node, action):\n",
        "        new_state  = node.state.copy()\n",
        "        cero = node.state.index(0)\n",
        "        new_state[cero], new_state[action] = new_state[action], new_state[cero]\n",
        "        return Node(state=new_state, parent=node, action=action)\n",
        "    \n",
        "    def h(self, node):\n",
        "        sum = 0\n",
        "        xyGrid = [(0,0),(0,1),(0,2),(1,0),(1,1),(1,2),(2,0),(2,1),(2,2)]\n",
        "        xySolucion = [(2,2),(0,0),(0,1),(0,2),(1,0),(1,1),(1,2),(2,0),(2,1)]\n",
        "        for i in range(len(node.state)):\n",
        "            sum += manhattan(xyGrid[node.state.index(i)],xySolucion[i])\n",
        "        return sum\n",
        "        \n",
        "    \n",
        "    def g(self, node):\n",
        "        return super().g(node)\n",
        "    \n",
        "    def f(self, node):\n",
        "        return super().f(node)  "
      ]
    },
    {
      "cell_type": "markdown",
      "metadata": {},
      "source": [
        "### Voraz Heurística Distancia de Manhattan"
      ]
    },
    {
      "cell_type": "code",
      "execution_count": 19,
      "metadata": {},
      "outputs": [
        {
          "name": "stdout",
          "output_type": "stream",
          "text": [
            "Expanded Nodes: 9\n",
            "Action Sequence:  [2, 5, 8, 7, 6, 3, 4, 5, 8]\n",
            "Cost:  9\n"
          ]
        }
      ],
      "source": [
        "initial4 = Node([1,0,2,7,4,3,8,6,5])\n",
        "goal4 = Node([1,2,3,4,5,6,7,8,0])\n",
        "problem4 = PuzzleH2(initial4, goal4)\n",
        "fringe4 = PriorityQueue()\n",
        "solution4 = voraz(problem4, fringe4)\n",
        "print(\"Action Sequence: \", solution4.actions_path())\n",
        "print(\"Cost: \", solution4.path_cost())"
      ]
    },
    {
      "cell_type": "markdown",
      "metadata": {},
      "source": [
        "### A* Heurística Distancia de Manhattan"
      ]
    },
    {
      "cell_type": "code",
      "execution_count": 14,
      "metadata": {},
      "outputs": [
        {
          "name": "stdout",
          "output_type": "stream",
          "text": [
            "Expanded Nodes: 9\n",
            "Action Sequence:  [2, 5, 8, 7, 6, 3, 4, 5, 8]\n",
            "Cost:  9\n"
          ]
        }
      ],
      "source": [
        "initial5 = Node([1,0,2,7,4,3,8,6,5])\n",
        "goal5 = Node([1,2,3,4,5,6,7,8,0])\n",
        "problem5 = PuzzleH2(initial5, goal5)\n",
        "fringe5 = PriorityQueue()\n",
        "solution5 = aStar(problem5, fringe5)\n",
        "print(\"Action Sequence: \", solution5.actions_path())\n",
        "print(\"Cost: \", solution5.path_cost())"
      ]
    },
    {
      "cell_type": "markdown",
      "metadata": {},
      "source": [
        "## Comparación de Cantidad de nodos expandidos por ambas heurísticas en el Algoritmo A* contra la cantidad de nodos expandidos por UCS"
      ]
    },
    {
      "cell_type": "code",
      "execution_count": 7,
      "metadata": {},
      "outputs": [
        {
          "data": {
            "image/png": "[encoded data removed]",
            "text/plain": [
              "<Figure size 800x500 with 1 Axes>"
            ]
          },
          "metadata": {},
          "output_type": "display_data"
        }
      ],
      "source": [
        "grafico = {'UCS': 398,\n",
        "           'A* Piezas Mal Ubicadas': 24,\n",
        "           'A* Manhattan': 9}\n",
        "keys = list(grafico.keys())\n",
        "values = list(grafico.values())\n",
        "fig = plt.figure(figsize=(8,5))\n",
        "plt.bar(keys, values, width=0.3, color='orange')\n",
        "\n",
        "plt.xlabel('Algoritmo Implementado')\n",
        "plt.ylabel('Nodos Expandidos')\n",
        "plt.title('Comparación Algoritmos para Estado Inicial: [1,0,2,7,4,3,8,6,5]')\n",
        "plt.show()\n"
      ]
    },
    {
      "cell_type": "markdown",
      "metadata": {},
      "source": [
        "### Comparación del Costo de las soluciones obtenidas por ambas Heurísticas en el Algoritmo Voraz contra el costo obtenido por UCS"
      ]
    },
    {
      "cell_type": "code",
      "execution_count": 23,
      "metadata": {},
      "outputs": [
        {
          "data": {
            "image/png": "[encoded data removed]",
            "text/plain": [
              "<Figure size 800x500 with 1 Axes>"
            ]
          },
          "metadata": {},
          "output_type": "display_data"
        }
      ],
      "source": [
        "grafico = {'UCS': 9,\n",
        "           'Voraz Piezas Mal Ubicadas': 10,\n",
        "           'Voraz Manhattan': 9}\n",
        "keys = list(grafico.keys())\n",
        "values = list(grafico.values())\n",
        "fig = plt.figure(figsize=(8,5))\n",
        "plt.bar(keys, values, width=0.3, color='orange')\n",
        "\n",
        "plt.xlabel('Algoritmo Implementado')\n",
        "plt.ylabel('Costo')\n",
        "plt.title('Comparación Algoritmos para Estado Inicial: [1,0,2,7,4,3,8,6,5]')\n",
        "plt.show()"
      ]
    },
    {
      "cell_type": "markdown",
      "metadata": {},
      "source": [
        "# Soluciones Con Estado Inicial [1,4,2,0,7,5,3,6,8]"
      ]
    },
    {
      "cell_type": "markdown",
      "metadata": {},
      "source": [
        "### UCS"
      ]
    },
    {
      "cell_type": "code",
      "execution_count": 23,
      "metadata": {},
      "outputs": [
        {
          "name": "stdout",
          "output_type": "stream",
          "text": [
            "Expanded Nodes: 118339\n",
            "Action Sequence:  [4, 7, 6, 3, 4, 7, 8, 5, 4, 3, 6, 7, 4, 1, 2, 5, 8, 7, 6, 3, 4, 5, 8]\n",
            "Cost:  23\n"
          ]
        }
      ],
      "source": [
        "initial6 = Node([1,4,2,0,7,5,3,6,8])\n",
        "goal6 = Node([1,2,3,4,5,6,7,8,0])\n",
        "problem6 = PuzzleH2(initial6, goal6)\n",
        "fringe6 = PriorityQueue()\n",
        "solution6 = UCS(problem6, fringe6)\n",
        "print(\"Action Sequence: \", solution6.actions_path())\n",
        "print(\"Cost: \", solution6.path_cost())"
      ]
    },
    {
      "cell_type": "markdown",
      "metadata": {},
      "source": [
        "### Voraz Manhattan"
      ]
    },
    {
      "cell_type": "code",
      "execution_count": 56,
      "metadata": {},
      "outputs": [
        {
          "name": "stdout",
          "output_type": "stream",
          "text": [
            "################################################\n",
            "# Voraz con Heurística Distancia de Manhattan: #\n",
            "################################################\n",
            "\n",
            "Expanded Nodes: 118\n",
            "Action Sequence:  [4, 7, 6, 3, 4, 7, 8, 5, 4, 1, 2, 5, 4, 3, 6, 7, 8, 5, 4, 7, 8, 5, 4, 7, 6, 3, 4, 5, 8]\n",
            "Cost:  29\n"
          ]
        }
      ],
      "source": [
        "print('################################################')\n",
        "print('# Voraz con Heurística Distancia de Manhattan: #')\n",
        "print('################################################')\n",
        "print()\n",
        "\n",
        "initial7 = Node([1,4,2,0,7,5,3,6,8])\n",
        "goal7 = Node([1,2,3,4,5,6,7,8,0])\n",
        "problem7 = PuzzleH2(initial7, goal7)\n",
        "fringe7 = PriorityQueue()\n",
        "solution7 = voraz(problem7, fringe7)\n",
        "print(\"Action Sequence: \", solution7.actions_path())\n",
        "print(\"Cost: \", solution7.path_cost())"
      ]
    },
    {
      "cell_type": "markdown",
      "metadata": {},
      "source": [
        "### A* Manhattan"
      ]
    },
    {
      "cell_type": "code",
      "execution_count": 55,
      "metadata": {},
      "outputs": [
        {
          "name": "stdout",
          "output_type": "stream",
          "text": [
            "#############################################\n",
            "# A* con Heurística Distancia de Manhattan: #\n",
            "#############################################\n",
            "\n",
            "Expanded Nodes: 2269\n",
            "Action Sequence:  [4, 7, 6, 3, 4, 7, 8, 5, 4, 3, 6, 7, 4, 1, 2, 5, 8, 7, 6, 3, 4, 5, 8]\n",
            "Cost:  23\n"
          ]
        }
      ],
      "source": [
        "print('#############################################')\n",
        "print('# A* con Heurística Distancia de Manhattan: #')\n",
        "print('#############################################')\n",
        "print()\n",
        "\n",
        "initial8 = Node([1,4,2,0,7,5,3,6,8])\n",
        "goal8 = Node([1,2,3,4,5,6,7,8,0])\n",
        "problem8 = PuzzleH2(initial8, goal8)\n",
        "fringe8 = PriorityQueue()\n",
        "solution8 = aStar(problem8, fringe8)\n",
        "print(\"Action Sequence: \", solution8.actions_path())\n",
        "print(\"Cost: \", solution8.path_cost())"
      ]
    },
    {
      "cell_type": "markdown",
      "metadata": {},
      "source": [
        "## Heurística Admisible Propuesta por el Grupo"
      ]
    },
    {
      "cell_type": "markdown",
      "metadata": {},
      "source": [
        "### Clase Puzzle con Heurística propuesta por el grupo:"
      ]
    },
    {
      "cell_type": "code",
      "execution_count": 40,
      "metadata": {},
      "outputs": [],
      "source": [
        "# Método para encontrar conflictos en las filas y columnas, y así implementar una heurística más eficiente\n",
        "def conflictos(state):\n",
        "    \n",
        "    # Se convirte el estado del nodo en arreglos bidimensionales\n",
        "    filas = [state[:3],state[3:6],state[6:9]] # Filas separadas en arreglo 2d\n",
        "    columnas = [[state[0], state[3], state[6]],[state[1], state[4], state[7]],[state[2], state[5], state[8]]] # Columnas separadas en arreglo 2d\n",
        "    \n",
        "    #Variables locales\n",
        "    conflictos = 0 \n",
        "    aux_filas = [[1,2,3],[4,5,6],[7,8,9]] # Orden en el que debería estar el node.state en su estado ideal a nivel de filas\n",
        "    aux_columnas = [[1,4,7],[2,5,8],[3,6,9]] # # Orden en el que debería estar el node.state en su estado ideal a nivel de columnas\n",
        "\n",
        "    for i in range(len(filas)):\n",
        "        # Revisa si los números se encuentran el las filas correspondientes y si existe algun conflicto\n",
        "        if aux_filas[i][0] in filas[i]:\n",
        "             \n",
        "            if aux_filas[i][1] in filas[i] and (filas[i].index(aux_filas[i][0]) > filas[i].index(aux_filas[i][1])):\n",
        "                conflictos += 1\n",
        "\n",
        "            if aux_filas[i][2] in filas[i] and (filas[i].index(aux_filas[i][0]) > filas[i].index(aux_filas[i][2])):\n",
        "                conflictos += 1\n",
        "\n",
        "        if (aux_filas[i][1] in filas[i] and aux_filas[i][2] in filas[i]) and (filas[i].index(aux_filas[i][1]) > filas[i].index(aux_filas[i][2])):\n",
        "            conflictos += 1\n",
        "    \n",
        "    for i in range(len(columnas)):\n",
        "        # Revisa si los números se encuentran el las columnas correspondientes y si existe algun conflicto\n",
        "        if aux_columnas[i][0] in columnas[i]:\n",
        "             \n",
        "            if aux_columnas[i][1] in columnas[i] and (columnas[i].index(aux_columnas[i][0]) > columnas[i].index(aux_columnas[i][1])):\n",
        "                conflictos += 1\n",
        "\n",
        "            if aux_columnas[i][2] in columnas[i] and (columnas[i].index(aux_columnas[i][0]) > columnas[i].index(aux_columnas[i][2])):\n",
        "                conflictos += 1\n",
        "\n",
        "        if (aux_columnas[i][1] in columnas[i] and aux_columnas[i][2] in columnas[i]) and (columnas[i].index(aux_columnas[i][1]) > columnas[i].index(aux_columnas[i][2])):\n",
        "            conflictos += 1\n",
        "    \n",
        "    return conflictos * 2\n",
        "\n",
        "def manhattan(xyGrid, xySolucion):\n",
        "    return abs(xySolucion[0]-xyGrid[0]) + abs(xySolucion[1] - xyGrid[1])\n",
        "\n",
        "class PuzzleH3(SearchProblem):\n",
        "    def __init__(self, initial, goal):\n",
        "        self.initial = initial\n",
        "        self.goal = goal\n",
        "    \n",
        "    def actions(self, node):\n",
        "        return super().actions(node)\n",
        "\n",
        "    def actions(self, node):\n",
        "        actions = [(1,3),(0,2,4),(1,5),(0,4,6),(1,3,5,7),(2,4,8),(3,7),(4,6,8),(5,7)]\n",
        "        return actions[node.state.index(0)]\n",
        "    \n",
        "    def result(self, node, action):\n",
        "        new_state  = node.state.copy()\n",
        "        cero = node.state.index(0)\n",
        "        new_state[cero], new_state[action] = new_state[action], new_state[cero]\n",
        "        return Node(state=new_state, parent=node, action=action)\n",
        "    \n",
        "    def h(self, node):\n",
        "        sum = 0\n",
        "        xyGrid = [(0,0),(0,1),(0,2),(1,0),(1,1),(1,2),(2,0),(2,1),(2,2)]\n",
        "        xySolucion = [(2,2),(0,0),(0,1),(0,2),(1,0),(1,1),(1,2),(2,0),(2,1)]\n",
        "        for i in range(len(node.state)):\n",
        "            sum += manhattan(xyGrid[node.state.index(i)],xySolucion[i])\n",
        "        return sum + conflictos(node.state)\n",
        "        \n",
        "    \n",
        "    def g(self, node):\n",
        "        return super().g(node)\n",
        "    \n",
        "    def f(self, node):\n",
        "        return super().f(node)  "
      ]
    },
    {
      "cell_type": "markdown",
      "metadata": {},
      "source": [
        "### Voraz Con Heurística propuesta por el Grupo:"
      ]
    },
    {
      "cell_type": "code",
      "execution_count": 58,
      "metadata": {},
      "outputs": [
        {
          "name": "stdout",
          "output_type": "stream",
          "text": [
            "################################################\n",
            "# Voraz con Heurística propuesta por el Grupo: #\n",
            "################################################\n",
            "Expanded Nodes: 192\n",
            "Action Sequence:  [4, 5, 8, 7, 6, 3, 4, 5, 8, 7, 4, 1, 2, 5, 8, 7, 4, 5, 2, 1, 4, 7, 8, 5, 2, 1, 4, 5, 2, 1, 4, 3, 0, 1, 2, 5, 4, 1, 0, 3, 4, 5, 8]\n",
            "Cost:  43\n"
          ]
        }
      ],
      "source": [
        "print('################################################')\n",
        "print('# Voraz con Heurística propuesta por el Grupo: #')\n",
        "print('################################################')\n",
        "\n",
        "\n",
        "initial9 = Node([1,4,2,0,7,5,3,6,8])\n",
        "goal9 = Node([1,2,3,4,5,6,7,8,0])\n",
        "problem9 = PuzzleH3(initial8, goal8)\n",
        "fringe9 = PriorityQueue()\n",
        "solution9 = voraz(problem9, fringe9)\n",
        "print(\"Action Sequence: \", solution9.actions_path())\n",
        "print(\"Cost: \", solution9.path_cost())"
      ]
    },
    {
      "cell_type": "markdown",
      "metadata": {},
      "source": [
        "### A* con Heurística propuesta por el Grupo:"
      ]
    },
    {
      "cell_type": "code",
      "execution_count": 54,
      "metadata": {},
      "outputs": [
        {
          "name": "stdout",
          "output_type": "stream",
          "text": [
            "#############################################\n",
            "# A* con Heurística propuesta por el Grupo: #\n",
            "#############################################\n",
            "\n",
            "Expanded Nodes: 1329\n",
            "Action Sequence:  [4, 7, 6, 3, 4, 7, 8, 5, 4, 3, 6, 7, 4, 1, 2, 5, 8, 7, 6, 3, 4, 5, 8]\n",
            "Cost:  23\n"
          ]
        }
      ],
      "source": [
        "print('#############################################')\n",
        "print('# A* con Heurística propuesta por el Grupo: #')\n",
        "print('#############################################')\n",
        "print()\n",
        "initial10 = Node([1,4,2,0,7,5,3,6,8])\n",
        "goal10 = Node([1,2,3,4,5,6,7,8,0])\n",
        "problem10 = PuzzleH3(initial10, goal10)\n",
        "fringe10 = PriorityQueue()\n",
        "solution10 = aStar(problem10, fringe10)\n",
        "print(\"Action Sequence: \", solution10.actions_path())\n",
        "print(\"Cost: \", solution10.path_cost())"
      ]
    },
    {
      "cell_type": "markdown",
      "metadata": {},
      "source": [
        "## Comparación de nodos expandidos por A* vd UCS"
      ]
    },
    {
      "cell_type": "code",
      "execution_count": 26,
      "metadata": {},
      "outputs": [
        {
          "ename": "TypeError",
          "evalue": "bar_label() takes from 1 to 2 positional arguments but 3 were given",
          "output_type": "error",
          "traceback": [
            "\u001b[0;31m---------------------------------------------------------------------------\u001b[0m",
            "\u001b[0;31mTypeError\u001b[0m                                 Traceback (most recent call last)",
            "Cell \u001b[0;32mIn [26], line 8\u001b[0m\n\u001b[1;32m      6\u001b[0m fig \u001b[38;5;241m=\u001b[39m plt\u001b[38;5;241m.\u001b[39mfigure(figsize\u001b[38;5;241m=\u001b[39m(\u001b[38;5;241m8\u001b[39m,\u001b[38;5;241m5\u001b[39m))\n\u001b[1;32m      7\u001b[0m plt\u001b[38;5;241m.\u001b[39mbar(keys, values, width\u001b[38;5;241m=\u001b[39m\u001b[38;5;241m0.3\u001b[39m, color\u001b[38;5;241m=\u001b[39m\u001b[38;5;124m'\u001b[39m\u001b[38;5;124morange\u001b[39m\u001b[38;5;124m'\u001b[39m)\n\u001b[0;32m----> 8\u001b[0m plt\u001b[38;5;241m.\u001b[39mbar_label(\u001b[38;5;241m118339\u001b[39m,\u001b[38;5;241m2269\u001b[39m,\u001b[38;5;241m1329\u001b[39m)\n\u001b[1;32m     10\u001b[0m plt\u001b[38;5;241m.\u001b[39mxlabel(\u001b[38;5;124m'\u001b[39m\u001b[38;5;124mAlgoritmo Implementado\u001b[39m\u001b[38;5;124m'\u001b[39m)\n\u001b[1;32m     11\u001b[0m plt\u001b[38;5;241m.\u001b[39mylabel(\u001b[38;5;124m'\u001b[39m\u001b[38;5;124mCosto\u001b[39m\u001b[38;5;124m'\u001b[39m)\n",
            "\u001b[0;31mTypeError\u001b[0m: bar_label() takes from 1 to 2 positional arguments but 3 were given"
          ]
        },
        {
          "data": {
            "image/png": "[encoded data removed]",
            "text/plain": [
              "<Figure size 800x500 with 1 Axes>"
            ]
          },
          "metadata": {},
          "output_type": "display_data"
        }
      ],
      "source": [
        "grafico = {'UCS': 118339,\n",
        "           'A* Manhattan': 2269,\n",
        "           'A* con Nueva Heurística Propuesta': 1329}\n",
        "keys = list(grafico.keys())\n",
        "values = list(grafico.values())\n",
        "fig = plt.figure(figsize=(8,5))\n",
        "plt.bar(keys, values, width=0.3, color='orange')\n",
        "\n",
        "plt.xlabel('Algoritmo Implementado')\n",
        "plt.ylabel('Costo')\n",
        "plt.title('Comparación Algoritmos para Estado Inicial: [1,0,2,7,4,3,8,6,5]')\n",
        "plt.show()"
      ]
    },
    {
      "cell_type": "markdown",
      "metadata": {
        "id": "9nK-qv4zeQJu"
      },
      "source": [
        "## __3. (1.5 Puntos) Un laberinto__\n",
        "\n",
        "Considere el problema de navegar en un laberinto que puede representarse como un arreglo bidimensional. En el laberinto existen algunas celdas que se consideran obstáculos y no es posible atravesarlas. Un agente que se encuentra en el laberinto puede moverse a cualquiera de las 8 celdas adyacentes siempre que la celda no sea un obstáculo y no esté por fuera de los límites del laberinto. En este caso, podemos representar la posición del agente como una coordenada $(x, y)$. Por ejemplo, la coordenada $(4,2$). Adicionalmente, las acciones pueden representarse como conjunto de parejas $(dx, dy)$ en el cual $dx$ representa la variación de la posición en $x$ y $dy$ representa la variación de la posición en $y$. Por ejemplo, $(0,-1)$ representa dejar la coordenada x tal como está y disminuir la actual coordenada en $y$ en una unidad. A continuación, se presenta el laberito en que se encuentra el agente:\n",
        "\n",
        "<center>\n",
        "\n",
        "![imagen.png](data:image/png;base64,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)\n",
        "\n",
        "</center>\n",
        "Para este problema:\n",
        "\n",
        "* Modele este problema como un problema de búsqueda\n",
        "* Implemente los algoritmos de búsquea UCS, Voraz y A* utilizando la distancia euclidiana como heurística y suponiendo que todos los movimientos cuestan 1 unidad.\n",
        "* Compare la cantidad de nodos expandidos por UCS, Voraz y A*\n",
        "* Construya una visualización para el laberinto, los obstaculos y la ruta encontrada. __Sugerencia__: Una forma de lograr esto es utilizar un mapa de calor.\n",
        " "
      ]
    },
    {
      "cell_type": "code",
      "execution_count": 15,
      "metadata": {
        "id": "F-JG0_VVf0XF"
      },
      "outputs": [],
      "source": [
        "# Solución propuesta"
      ]
    },
    {
      "cell_type": "markdown",
      "metadata": {
        "id": "GtVnQZQnefT8"
      },
      "source": [
        "## __3. (2.0 puntos) Un generador de laberintos__\n",
        "\n",
        "Generalice el problema anterior para dar al usuario la habilidad de configurar:\n",
        "\n",
        "* El tamaño del laberinto\n",
        "* El porcentaje de obstaculos en el tablero. A partir de ese valor los obstaculos se deben ubicar de manera aleatoria en las celdas disponibles.\n",
        "* La ubicación inicial del agente\n",
        "\n",
        "Para este problema:\n",
        "\n",
        "* Modele este problema como un problema de búsqueda\n",
        "* Implemente los algoritmos de búsquea UCS, Voraz y A* utilizando la distancia euclidiana como heurística y suponiendo que todos los movimientos cuestan 1 unidad.\n",
        "* Compare la cantidad de nodos expandidos por UCS, Voraz y A*\n",
        "* Construya una visualización para el laberinto, los obstaculos y la ruta encontrada. __Sugerencia__: Una forma de lograr esto de manera sencilla es utilizar un mapa de calor.\n",
        " "
      ]
    },
    {
      "cell_type": "code",
      "execution_count": 16,
      "metadata": {
        "id": "7HpVEbsWftZR"
      },
      "outputs": [],
      "source": [
        "# Solución propuesta"
      ]
    }
  ],
  "metadata": {
    "colab": {
      "provenance": []
    },
    "kernelspec": {
      "display_name": "Python 3.10.6 64-bit",
      "language": "python",
      "name": "python3"
    },
    "language_info": {
      "codemirror_mode": {
        "name": "ipython",
        "version": 3
      },
      "file_extension": ".py",
      "mimetype": "text/x-python",
      "name": "python",
      "nbconvert_exporter": "python",
      "pygments_lexer": "ipython3",
      "version": "3.10.6"
    },
    "vscode": {
      "interpreter": {
        "hash": "aee8b7b246df8f9039afb4144a1f6fd8d2ca17a180786b69acc140d282b71a49"
      }
    }
  },
  "nbformat": 4,
  "nbformat_minor": 0
}
